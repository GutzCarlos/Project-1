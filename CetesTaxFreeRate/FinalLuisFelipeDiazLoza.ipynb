{
 "cells": [
  {
   "cell_type": "code",
   "execution_count": 4,
   "metadata": {},
   "outputs": [
    {
     "data": {
      "image/png": "[encoded data removed]",
      "text/plain": [
       "<Figure size 432x288 with 1 Axes>"
      ]
     },
     "metadata": {
      "needs_background": "light"
     },
     "output_type": "display_data"
    }
   ],
   "source": [
    "from numpy.random import seed\n",
    "from numpy.random import randn\n",
    "from scipy.stats import shapiro\n",
    "import pandas as pd\n",
    "import numpy as np\n",
    "import statsmodels.api as sm\n",
    "from sklearn import datasets\n",
    "import warnings\n",
    "warnings.filterwarnings(\"ignore\")\n",
    "from statsmodels.sandbox.regression.predstd import wls_prediction_std\n",
    "import matplotlib.pyplot as plt\n",
    "from sklearn.linear_model import LinearRegression\n",
    "from sklearn.metrics import r2_score\n",
    "import statsmodels.api as sm\n",
    "#Get Tables\n",
    "PreDataA=pd.read_csv(\"CETES.csv\",skiprows=17)\n",
    "PreDataB=pd.read_csv(\"Crimes2011-2019.csv\")\n",
    "#Creates DataFrames\n",
    "FramePreDataA= pd.DataFrame(PreDataA)\n",
    "FramePreDataA= FramePreDataA.groupby('Fecha').mean()\n",
    "FramePreDataB= pd.DataFrame(PreDataB)\n",
    "FramePreDataA[\"SF43936\"].plot()\n",
    "plt.title('Risk Free Rate v Time ',fontsize=(18));\n",
    "plt.ylabel('Yield (%)',fontsize=(15));\n",
    "plt.xlabel('Time ',fontsize=(15));\n",
    "plt.grid(zorder=0,color='grey', linestyle='-', linewidth=1, alpha=0.5)\n",
    "plt.savefig(\"SerieTiempoCETES.png\")"
   ]
  },
  {
   "cell_type": "code",
   "execution_count": 5,
   "metadata": {},
   "outputs": [
    {
     "name": "stdout",
     "output_type": "stream",
     "text": [
      "Normality Test Per Municipality Statistics=0.988, p=0.380 Playas de Rosarito RoboCasa\n",
      "Normality Test of Error Statistics=0.988, p=0.380\n",
      "                            OLS Regression Results                            \n",
      "==============================================================================\n",
      "Dep. Variable:                      y   R-squared:                       0.557\n",
      "Model:                            OLS   Adj. R-squared:                  0.553\n",
      "Method:                 Least Squares   F-statistic:                     142.0\n",
      "Date:                Fri, 19 Jul 2019   Prob (F-statistic):           1.06e-21\n",
      "Time:                        21:14:22   Log-Likelihood:                -182.23\n",
      "No. Observations:                 115   AIC:                             368.5\n",
      "Df Residuals:                     113   BIC:                             374.0\n",
      "Df Model:                           1                                         \n",
      "Covariance Type:            nonrobust                                         \n",
      "==============================================================================\n",
      "                 coef    std err          t      P>|t|      [0.025      0.975]\n",
      "------------------------------------------------------------------------------\n",
      "const          8.4799      0.342     24.790      0.000       7.802       9.158\n",
      "x1            -0.0948      0.008    -11.918      0.000      -0.111      -0.079\n",
      "==============================================================================\n",
      "Omnibus:                        0.535   Durbin-Watson:                   0.795\n",
      "Prob(Omnibus):                  0.765   Jarque-Bera (JB):                0.682\n",
      "Skew:                           0.101   Prob(JB):                        0.711\n",
      "Kurtosis:                       2.681   Cond. No.                         133.\n",
      "==============================================================================\n",
      "\n",
      "Warnings:\n",
      "[1] Standard Errors assume that the covariance matrix of the errors is correctly specified.\n",
      "The linear model is: Y = 8.4799 + -0.094774X\n",
      "Normality Test Per Municipality Statistics=0.989, p=0.471 Acapulco de Juárez RoboCasa\n",
      "Normality Test of Error Statistics=0.989, p=0.471\n",
      "                            OLS Regression Results                            \n",
      "==============================================================================\n",
      "Dep. Variable:                      y   R-squared:                       0.421\n",
      "Model:                            OLS   Adj. R-squared:                  0.416\n",
      "Method:                 Least Squares   F-statistic:                     82.29\n",
      "Date:                Fri, 19 Jul 2019   Prob (F-statistic):           4.29e-15\n",
      "Time:                        21:15:08   Log-Likelihood:                -197.58\n",
      "No. Observations:                 115   AIC:                             399.2\n",
      "Df Residuals:                     113   BIC:                             404.7\n",
      "Df Model:                           1                                         \n",
      "Covariance Type:            nonrobust                                         \n",
      "==============================================================================\n",
      "                 coef    std err          t      P>|t|      [0.025      0.975]\n",
      "------------------------------------------------------------------------------\n",
      "const          7.8574      0.378     20.767      0.000       7.108       8.607\n",
      "x1            -0.1482      0.016     -9.071      0.000      -0.181      -0.116\n",
      "==============================================================================\n",
      "Omnibus:                        8.365   Durbin-Watson:                   0.664\n",
      "Prob(Omnibus):                  0.015   Jarque-Bera (JB):                4.153\n",
      "Skew:                           0.231   Prob(JB):                        0.125\n",
      "Kurtosis:                       2.192   Cond. No.                         69.2\n",
      "==============================================================================\n",
      "\n",
      "Warnings:\n",
      "[1] Standard Errors assume that the covariance matrix of the errors is correctly specified.\n",
      "The linear model is: Y = 7.8574 + -0.14815X\n",
      "Normality Test Per Municipality Statistics=0.986, p=0.302 Cuernavaca RoboViol\n",
      "Normality Test of Error Statistics=0.986, p=0.302\n",
      "                            OLS Regression Results                            \n",
      "==============================================================================\n",
      "Dep. Variable:                      y   R-squared:                       0.599\n",
      "Model:                            OLS   Adj. R-squared:                  0.595\n",
      "Method:                 Least Squares   F-statistic:                     168.7\n",
      "Date:                Fri, 19 Jul 2019   Prob (F-statistic):           3.68e-24\n",
      "Time:                        21:16:13   Log-Likelihood:                -176.51\n",
      "No. Observations:                 115   AIC:                             357.0\n",
      "Df Residuals:                     113   BIC:                             362.5\n",
      "Df Model:                           1                                         \n",
      "Covariance Type:            nonrobust                                         \n",
      "==============================================================================\n",
      "                 coef    std err          t      P>|t|      [0.025      0.975]\n",
      "------------------------------------------------------------------------------\n",
      "const          8.1771      0.293     27.886      0.000       7.596       8.758\n",
      "x1            -0.0212      0.002    -12.990      0.000      -0.024      -0.018\n",
      "==============================================================================\n",
      "Omnibus:                        4.719   Durbin-Watson:                   0.602\n",
      "Prob(Omnibus):                  0.094   Jarque-Bera (JB):                4.233\n",
      "Skew:                          -0.360   Prob(JB):                        0.120\n",
      "Kurtosis:                       3.603   Cond. No.                         500.\n",
      "==============================================================================\n",
      "\n",
      "Warnings:\n",
      "[1] Standard Errors assume that the covariance matrix of the errors is correctly specified.\n",
      "The linear model is: Y = 8.1771 + -0.021161X\n",
      "Normality Test Per Municipality Statistics=0.984, p=0.193 Huimanguillo RoboViol\n",
      "Normality Test of Error Statistics=0.984, p=0.193\n",
      "                            OLS Regression Results                            \n",
      "==============================================================================\n",
      "Dep. Variable:                      y   R-squared:                       0.415\n",
      "Model:                            OLS   Adj. R-squared:                  0.409\n",
      "Method:                 Least Squares   F-statistic:                     80.01\n",
      "Date:                Fri, 19 Jul 2019   Prob (F-statistic):           8.41e-15\n",
      "Time:                        21:17:17   Log-Likelihood:                -198.26\n",
      "No. Observations:                 115   AIC:                             400.5\n",
      "Df Residuals:                     113   BIC:                             406.0\n",
      "Df Model:                           1                                         \n",
      "Covariance Type:            nonrobust                                         \n",
      "==============================================================================\n",
      "                 coef    std err          t      P>|t|      [0.025      0.975]\n",
      "------------------------------------------------------------------------------\n",
      "const          7.9277      0.391     20.286      0.000       7.153       8.702\n",
      "x1            -0.0812      0.009     -8.945      0.000      -0.099      -0.063\n",
      "==============================================================================\n",
      "Omnibus:                       44.795   Durbin-Watson:                   0.416\n",
      "Prob(Omnibus):                  0.000   Jarque-Bera (JB):                7.098\n",
      "Skew:                           0.021   Prob(JB):                       0.0288\n",
      "Kurtosis:                       1.784   Cond. No.                         132.\n",
      "==============================================================================\n",
      "\n",
      "Warnings:\n",
      "[1] Standard Errors assume that the covariance matrix of the errors is correctly specified.\n",
      "The linear model is: Y = 7.9277 + -0.081218X\n"
     ]
    },
    {
     "data": {
      "text/plain": [
       "<Figure size 432x288 with 0 Axes>"
      ]
     },
     "metadata": {},
     "output_type": "display_data"
    },
    {
     "data": {
      "text/plain": [
       "<Figure size 432x288 with 0 Axes>"
      ]
     },
     "metadata": {},
     "output_type": "display_data"
    },
    {
     "data": {
      "text/plain": [
       "<Figure size 432x288 with 0 Axes>"
      ]
     },
     "metadata": {},
     "output_type": "display_data"
    },
    {
     "data": {
      "text/plain": [
       "<Figure size 432x288 with 0 Axes>"
      ]
     },
     "metadata": {},
     "output_type": "display_data"
    }
   ],
   "source": [
    "Data = pd.merge(FramePreDataB,FramePreDataA , on=\"Fecha\", how=\"left\").dropna(how='any')\n",
    "\n",
    "df_states =pd.unique(Data['Municipio'])  \n",
    "\n",
    "csv_header = list(Data.columns.values)\n",
    "\n",
    "for x in range(len(df_states)):\n",
    "    for y in range(10,19):\n",
    "        #Normality Test per Municipality\n",
    "        stat, p = shapiro(Data[(Data['Municipio']).dropna(axis = 0, how ='any')==df_states[x]][csv_header[y]]) \n",
    "        #Limits the research to the already succesfull R squared and variance analysis\n",
    "        if (str(df_states[x])== \"Cuernavaca\" and str(csv_header[y])==\"RoboViol\") or (str(df_states[x])== \"Huimanguillo\" and str(csv_header[y])==\"RoboViol\") or (str(df_states[x])== \"Acapulco de Juárez\" and str(csv_header[y])==\"RoboCasa\") or (str(df_states[x])== \"Playas de Rosarito\" and str(csv_header[y])==\"RoboCasa\"):\n",
    "            # only Normal Values are considered (Null hypotesis = normal distribution)\n",
    "            if p>.05 and p<1:\n",
    "                #shows parameters of succesfull Normality Tests\n",
    "                print('Normality Test Per Municipality Statistics=%.3f, p=%.3f' % (stat, p), df_states[x], csv_header[y] )\n",
    "                #Generates Regression Analysis\n",
    "                X = Data[(Data['Municipio']) == df_states[x]][csv_header[y]].dropna(axis = 0, how ='any').values.reshape(-1,1)\n",
    "                Y = Data[(Data['Municipio']) == df_states[x]][\"SF43936\"].dropna(axis = 0, how ='any').values.reshape(-1,1)\n",
    "                reg = LinearRegression()\n",
    "                reg.fit(X, Y)\n",
    "                pred = reg.predict(X)\n",
    "                X2 = sm.add_constant(X)\n",
    "                est = sm.OLS(Y, X2)\n",
    "                est2 = est.fit()\n",
    "                #Plot residuals following a Normal Distribution\n",
    "                sm.qqplot(est2.resid).savefig(\"Error\"+str(df_states[x])+str(csv_header[y])+\".png\")\n",
    "                plt.clf()\n",
    "                #Save and Print residuals in a variable\n",
    "                residuals = est2.fittedvalues\n",
    "                Error_Frame= pd.DataFrame(residuals)\n",
    "                #print(residuals)\n",
    "                # Test Normality of residuals\n",
    "                statE, pE = shapiro(residuals) \n",
    "                print('Normality Test of Error Statistics=%.3f, p=%.3f' % (statE, pE) )\n",
    "                # prints regression\n",
    "                plt.scatter(X, Y, color=\"gray\", s=20, alpha=.7, cmap='viridis',marker='o')\n",
    "                plt.plot(X, pred, color='blue', linewidth=3)\n",
    "                plt.title('Risk Free Rate v Number of Crimes',fontsize=(18));\n",
    "                plt.ylabel('Yield (%)',fontsize=(15));\n",
    "                plt.xlabel('Number of Crimes',fontsize=(15));\n",
    "                plt.grid(zorder=0,color='grey', linestyle='-', linewidth=1, alpha=0.5)\n",
    "                plt.savefig(\"Plot\"+str(df_states[x])+str(csv_header[y])+\".png\")\n",
    "                plt.clf()\n",
    "                #Prints Analysis of Variance summary (ANOVA)\n",
    "                print(est2.summary())\n",
    "                print(\"The linear model is: Y = {:.5} + {:.5}X\".format(reg.intercept_[0], reg.coef_[0][0]))\n"
   ]
  },
  {
   "cell_type": "code",
   "execution_count": null,
   "metadata": {},
   "outputs": [],
   "source": []
  }
 ],
 "metadata": {
  "kernelspec": {
   "display_name": "Python 3",
   "language": "python",
   "name": "python3"
  },
  "language_info": {
   "codemirror_mode": {
    "name": "ipython",
    "version": 3
   },
   "file_extension": ".py",
   "mimetype": "text/x-python",
   "name": "python",
   "nbconvert_exporter": "python",
   "pygments_lexer": "ipython3",
   "version": "3.7.3"
  }
 },
 "nbformat": 4,
 "nbformat_minor": 2
}
