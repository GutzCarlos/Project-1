{
 "cells": [
  {
   "cell_type": "markdown",
   "metadata": {},
   "source": [
    "# Using Data Analysis vs Crime Rates\n",
    "<a href=''><img src='../news.png'/></a>\n",
    "<img src='../Pierian_Data_Logo.png'/>"
   ]
  },
  {
   "cell_type": "markdown",
   "metadata": {},
   "source": [
    "<div class=\"alert alert-info\"><h3>As part of the public politics that could be applied to help the figth against crime, we tought that there was some data analysis that could help focus the goverment efforts.<br>\n",
    "\n",
    "In this regard, with our background expiriences we came up with two different ideas that could help with these task:\n",
    "\n",
    "- Detect wich of the municipalities were the ones with the highest crime rates\n",
    "- Determine if there are outside variables that could have an effect in the crime rate\n",
    "\n",
    "</h3>\n",
    "</div>\n",
    "\n",
    "\n",
    "\n",
    "\n"
   ]
  },
  {
   "cell_type": "markdown",
   "metadata": {},
   "source": [
    "# Introduction:\n",
    "\n",
    "Part of our job was to narrow the search and determine which data sets we will use, finally we agreed to use the data we were more familiar with:\n",
    "1. <strong>Official government crime rate</strong>\n",
    "2. <strong>Economic variables</strong>\n",
    "\n",
    "So for the first task, <tt> \"Detect wich of the municipalities were the ones with the highest crime rates\"</tt>, we decided to create heat maps that showed which were the municipalities with more crime. \n",
    "\n",
    "For the second task <tt>\"Determine if there are outside variables that could have an effect in the crime rate\"</tt>, \n",
    "our objective was two solve the following question: <br>\n",
    "<li><h6>Does economic variables affect the crime rate?</h6></li>\n",
    "\n",
    "\n",
    "\n",
    "## About the crime rates:\n",
    "\n",
    "To work towards our two primary objectives, we determine that it was necesary the use of the <strong>official crime rates</strong> published monthly by the government. \n",
    "\n",
    "The information is published in this web page, with the following characteristics:\n",
    "<br>\n",
    "- <strong>Secretariado Ejecutivo del Sistema Nacional de Seguridad Pública</strong> <a href='https://www.gob.mx/sesnsp/acciones-y-programas/incidencia-delictiva-87005?idiom=es'>www.gob.mx/sesnsp</a>\n",
    "- The information is published monthly with one month offset\n",
    "- The crime rates refers to the official reported crimes in the local government offices\n",
    "- It is divided by different criteria according the type of crime \n",
    "- There is information reported from 2011 to 2019 in different data sets, one from 2011 to 2015 and other \n",
    "  from 2015 to 2019\n",
    "- It has information of every municipality and state of the Mexican Republic\n",
    "\n",
    "To narrow and ease our work we determine that we will use only the following information from this dataset:\n",
    "- We will only use the crimes consider by the mexican government of high impact which are the following:\n",
    "<ol>\n",
    "1. Wrongfull murder, willfull murder and femicide\n",
    "2. Extorsion\n",
    "3. Kidnap\n",
    "4. Violent robbery \n",
    "5. Home robbery\n",
    "</ol>\n",
    "- We will use a monthly period of time, because the information comes with this sample rate\n",
    "- We will use the information with the zoom to local or national depending on the economic variable\n",
    "- We used the information given from 2011 to 2019\n"
   ]
  },
  {
   "cell_type": "markdown",
   "metadata": {},
   "source": [
    "## About the economic variables"
   ]
  },
  {
   "cell_type": "markdown",
   "metadata": {},
   "source": [
    "## Introduction: * 2 min\n",
    "About the data. (Raul)\n",
    " - Hypothesis null and alternative (Raul)\n",
    " - Where the data comes from (Raul)\n",
    " - Describe the data (Raul)\n",
    "     - What crimes we use and why\n",
    "     - Periods of time\n",
    "     - Places\n",
    " - What economic variables we use and why\n",
    " - Where do they come from\n",
    " - What does each economic variable means\n",
    " \n"
   ]
  },
  {
   "cell_type": "markdown",
   "metadata": {},
   "source": [
    "## Process: * 4 min\n",
    "- Data cleaning (Carlos)\n",
    "- Graphics vs time (Luis Sauceda)\n",
    "    - How is the trend of the data economic variables and crime rates being affected \n",
    "- Explain Maps and how we got there (Carlos)"
   ]
  },
  {
   "cell_type": "markdown",
   "metadata": {},
   "source": [
    "## Conclusion: * 4 min\n",
    "- Using a static model to describe the data trend (Luis Felipe)\n",
    "- How to explain the effect of two variables over a period of time (Luis Sauceda)\n"
   ]
  },
  {
   "cell_type": "code",
   "execution_count": null,
   "metadata": {},
   "outputs": [],
   "source": []
  }
 ],
 "metadata": {
  "kernelspec": {
   "display_name": "Python 3",
   "language": "python",
   "name": "python3"
  },
  "language_info": {
   "codemirror_mode": {
    "name": "ipython",
    "version": 3
   },
   "file_extension": ".py",
   "mimetype": "text/x-python",
   "name": "python",
   "nbconvert_exporter": "python",
   "pygments_lexer": "ipython3",
   "version": "3.7.1"
  }
 },
 "nbformat": 4,
 "nbformat_minor": 2
}
