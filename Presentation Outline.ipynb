{
 "cells": [
  {
   "cell_type": "markdown",
   "metadata": {},
   "source": [
    "# Crime rate vs economic variables"
   ]
  },
  {
   "cell_type": "markdown",
   "metadata": {},
   "source": [
    "As part of the public politics that could be applied to help the crime rate, we focused our efforts to help into two specific tasks:\n",
    "- Detect the municipalities with more crime rate\n",
    "- Research if some economic variables affect the crime rate"
   ]
  },
  {
   "cell_type": "markdown",
   "metadata": {},
   "source": [
    "## Introduction: * 2 min\n",
    "About the data. (Raul)\n",
    " - Hypothesis null and alternative (Raul)\n",
    " - Where the data comes from (Raul)\n",
    " - Describe the data (Raul)\n",
    "     - What crimes we use and why\n",
    "     - Periods of time\n",
    "     - Places\n",
    " - What economic variables we use and why\n",
    " - Where do they come from\n",
    " - What does each economic variable means\n",
    " \n"
   ]
  },
  {
   "cell_type": "markdown",
   "metadata": {},
   "source": [
    "## Process: * 4 min\n",
    "- Data cleaning (Carlos)\n",
    "- Graphics vs time (Luis Sauceda)\n",
    "    - How is the trend of the data economic variables and crime rates being affected \n",
    "- Explain Maps and how we got there (Carlos)"
   ]
  },
  {
   "cell_type": "markdown",
   "metadata": {},
   "source": [
    "## Conclusion: * 4 min\n",
    "- Using a static model to describe the data trend (Luis Felipe)\n",
    "- How to explain the effect of two variables over a period of time (Luis Sauceda)\n"
   ]
  },
  {
   "cell_type": "code",
   "execution_count": null,
   "metadata": {},
   "outputs": [],
   "source": []
  }
 ],
 "metadata": {
  "kernelspec": {
   "display_name": "Python 3",
   "language": "python",
   "name": "python3"
  },
  "language_info": {
   "codemirror_mode": {
    "name": "ipython",
    "version": 3
   },
   "file_extension": ".py",
   "mimetype": "text/x-python",
   "name": "python",
   "nbconvert_exporter": "python",
   "pygments_lexer": "ipython3",
   "version": "3.6.8"
  }
 },
 "nbformat": 4,
 "nbformat_minor": 2
}
