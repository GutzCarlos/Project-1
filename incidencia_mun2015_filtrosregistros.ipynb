{
 "cells": [
  {
   "cell_type": "markdown",
   "metadata": {},
   "source": [
    "# Escala de Grises\n",
    "\n",
    "En este libro configuraré las clases <tt>Class</tt> para filtrar la incidencia delictiva. Venga!"
   ]
  },
  {
   "cell_type": "code",
   "execution_count": 2,
   "metadata": {},
   "outputs": [],
   "source": [
    "%matplotlib inline\n",
    "import pandas as pd\n",
    "import matplotlib.pyplot as plt\n",
    "import numpy as np"
   ]
  },
  {
   "cell_type": "code",
   "execution_count": 4,
   "metadata": {},
   "outputs": [],
   "source": [
    "# Acepta el archivo de origen del Secretariado que está en la página\n",
    "path_id = \"/Users/roas/Projects_Git/TP1/Resources/IDM_NM_may19.csv\"\n",
    "ide_df = pd.read_csv(path_id, encoding='latin-1')"
   ]
  },
  {
   "cell_type": "markdown",
   "metadata": {},
   "source": [
    "El código maneja los siguientes nombres de columnas para los datos descargados de la página del Secretariado Ejecutivo:\n",
    "- Año -> Year\n",
    "- Clave Entidad -> Clave_Ent \n",
    "- Entidad -> Entidad\n",
    "- Clave Municipio -> Clave_mun\n",
    "- Municipio -> Municipio\n",
    "- Bien juridico afectado -> Bien_juridico\n",
    "- Subtipo delito -> Subtipo_delito\n",
    "- Modalidad -> Modalidad"
   ]
  },
  {
   "cell_type": "code",
   "execution_count": 11,
   "metadata": {},
   "outputs": [],
   "source": [
    "# Revisión en el cambio de nombre\n",
    "ide_df = ide_df.rename(columns={\"Bien_juridico afectado\":'Bien_juridico'})"
   ]
  },
  {
   "cell_type": "markdown",
   "metadata": {},
   "source": [
    "# Filtros al DataFrame\n",
    "Estas funcciones se aplican a la lista en formato meses en columnas del Data Frame= ide_df\n",
    "- La siguiente función valida una lista, si la lista está vacia regresa todos los elementos,\n",
    "- Si algunos elementos son validos, solo regresa los elementos validos o \n",
    "- Si todos los elementos no corresponden a la lista, regresa todos los elementos.\n",
    "\n",
    "La clase recibe un DataFrame, con las columnas <tt>'Year', 'Entidad', 'Bien_juridico', 'Modalidad', 'Tipo_delito', 'Subtipo_delito'</tt>, además de una lista con las opciones que estén en los campos que se quieren filtrar. \n",
    "\n",
    "Finalmente regresa con la operación .filtrado(), el DataFrame filtrado. "
   ]
  },
  {
   "cell_type": "code",
   "execution_count": 7,
   "metadata": {},
   "outputs": [],
   "source": [
    "class FiltroEG():\n",
    "    \n",
    "   #Declaro el listado de todas las posibles variables que habrá que filtrar\n",
    "#     years_ide = ide_df['Year'].unique()\n",
    "#     entidad_ide = ide_df['Entidad'].unique() \n",
    "#     bienjuridico_ide = ide_df['Bien_juridico'].unique() \n",
    "#     modalidad_ide = ide_df['Modalidad'].unique() \n",
    "#     tipo_ide = ide_df['Tipo_delito'].unique() #Esta es una variable general\n",
    "#     subtipo_ide = ide_df['Subtipo_delito'].unique()   \n",
    "   \n",
    "    #En mis peticiones de entrada están las varaibles seleccionadas por el usuario como filtro\n",
    "    def __init__(self,ide_df,year,entidad,bienjuridico,tipo,subtipo,modalidad):\n",
    "        self.ide_df = ide_df\n",
    "        self.year = year\n",
    "        self.entidad = entidad\n",
    "        self.bienjuridico = bienjuridico\n",
    "        self.modalidad = modalidad\n",
    "        self.tipo = tipo\n",
    "        self.subtipo = subtipo\n",
    "        \n",
    "    def year_select(self):\n",
    "        years_ide = self.ide_df['Year'].unique()\n",
    "        valid = []\n",
    "        if not self.year: return years_ide\n",
    "        else:\n",
    "            for y in self.year:\n",
    "                if y in years_ide:\n",
    "                    valid.append(y)\n",
    "        if not valid: return years_ide\n",
    "        return valid\n",
    "\n",
    "    def entidad_select(self):\n",
    "        entidad_ide = self.ide_df['Entidad'].unique() \n",
    "        valid = []\n",
    "        if not self.entidad: return entidad_ide\n",
    "        else:\n",
    "            for y in self.entidad:\n",
    "                if y in entidad_ide:\n",
    "                    valid.append(y)\n",
    "        if not valid: return entidad_ide\n",
    "        return valid\n",
    "    \n",
    "    def bienjuridico_select(self): \n",
    "        valid = []\n",
    "        bienjuridico_ide = self.ide_df['Bien_juridico'].unique()\n",
    "        if not self.bienjuridico: return bienjuridico_ide\n",
    "        else:\n",
    "            for y in self.bienjuridico:\n",
    "                if y in bienjuridico_ide:\n",
    "                    valid.append(y)\n",
    "        if not valid: return bienjuridico_ide\n",
    "        return valid\n",
    "\n",
    "    def modalidad_select(self):\n",
    "        valid = []\n",
    "        modalidad_ide = self.ide_df['Modalidad'].unique() \n",
    "        if not self.modalidad: return modalidad_ide\n",
    "        else:\n",
    "            for y in self.modalidad:\n",
    "                if y in modalidad_ide:\n",
    "                    valid.append(y)\n",
    "        if not valid: return modalidad_ide\n",
    "        return valid\n",
    "\n",
    "    def subtipodelito_select(self):    \n",
    "        valid = []\n",
    "        subtipo_ide = self.ide_df['Subtipo_delito'].unique()  \n",
    "        if not self.subtipo: return subtipo_ide\n",
    "        else:\n",
    "            for y in self.subtipo:\n",
    "                if y in subtipo_ide:\n",
    "                    valid.append(y)\n",
    "        if not valid: return subtipo_ide\n",
    "        return valid\n",
    "\n",
    "    def tipodelito_select(self):\n",
    "        tipo_ide = self.ide_df['Tipo_delito'].unique()\n",
    "        valid = []\n",
    "        if not self.tipo: return tipo_ide\n",
    "        else:\n",
    "            for y in self.tipo:\n",
    "                if y in tipo_ide:\n",
    "                    valid.append(y)\n",
    "        if not valid: return tipo_ide\n",
    "        return valid\n",
    "        \n",
    "    ### Función para el filtrado de información para la base ide_df\n",
    "    # def filtrado(self.year_select(), self.entidad_select(), self.bienjuridico_select(), self.tipodelito_select(), self.subtipodelito_select(), self.modalidad_select()):\n",
    "    def filtrado(self):\n",
    "        return self.ide_df[self.ide_df['Year'].isin(self.year_select()) & self.ide_df['Entidad'].isin(self.entidad_select()) & self.ide_df['Bien_juridico'].isin(self.bienjuridico_select()) \n",
    "                      & self.ide_df['Tipo_delito'].isin(self.tipodelito_select()) &  self.ide_df['Subtipo_delito'].isin(self.subtipodelito_select())\n",
    "                     & self.ide_df['Modalidad'].isin(self.modalidad_select())&self.ide_df['Municipio']&self.ide_df['Clave_mun']]\n",
    "\n",
    "    \n"
   ]
  },
  {
   "cell_type": "markdown",
   "metadata": {},
   "source": [
    "## Datos a través de registros\n",
    "La información que se presenta en la base de Incidencia Delictiva Estatal, se encuentra listada con las columnas de meses como campos y no como registros, lo que dificulta operaciones de gráficas y mediciones a través del tiempo. \n",
    "Las siguientes funciones, crean una nueva tabla con la información en registros, además de agregar las columnas de 'Fecha' y 'Data', para describir toda la información.\n",
    "Consideraciones:\n",
    "- Al campo del dato de fecha se le asignó el último día del mes.\n",
    "- Utiliza el DF con los siguientes campos <tt>'Year', 'Entidad', 'Bien_juridico', 'Modalidad', 'Tipo_delito', 'Subtipo_delito'</tt>"
   ]
  },
  {
   "cell_type": "code",
   "execution_count": 8,
   "metadata": {},
   "outputs": [],
   "source": [
    "class RegistrosEG():\n",
    "    #Variables que operan en la función\n",
    "    mes = ['Enero','Febrero','Marzo', 'Abril', 'Mayo', 'Junio', \n",
    "           'Julio', 'Agosto', 'Septiembre', 'Octubre', 'Noviembre', 'Diciembre']\n",
    "    years_ide = ide_df['Year'].unique()\n",
    "    \n",
    "### Funición para tomar los campos de meses y hacer registros.\n",
    "    def __inti__(self):\n",
    "        pass\n",
    "    \n",
    "    \n",
    "    def ide_registros(self):\n",
    "    \n",
    "        #Nuevo DataFrame que se llenará \n",
    "        ide_t = pd.DataFrame({'Year':[],'Entidad':[],'Bien_juridico':[],'Tipo_delito':[],\n",
    "                              'Subtipo_delito':[],'Modalidad':[],'Fecha':[],'Fecha_pd':[],'Data':[],'Municipio':[],'Clave_mun':[]})\n",
    "\n",
    "        # Se debe de tomar en consideración la actualización de periodos para próximos años'''\n",
    "        # Genera un rango de un periodo de 60 meses que empieza en enero 2015 y concluye en diciembre 2019#\n",
    "        idx = pd.date_range('31/01/2015', periods=12*len(RegistrosEG.years_ide), freq='M') \n",
    "        f=0\n",
    "\n",
    "        #Recorrer el DataFrame de incidencia para acomodarlo en filas, con una columna que distinga las fechas\n",
    "        for y in RegistrosEG.years_ide:\n",
    "            #Filtrar el data frame por años\n",
    "            dataframe = ide_df[ide_df['Year'].isin([y])]\n",
    "\n",
    "            for m in RegistrosEG.mes:\n",
    "                #Filtrar la columna del mes para cada DataFrame\n",
    "                ide_m = dataframe[['Year', 'Entidad','Bien_juridico','Tipo_delito','Subtipo_delito','Modalidad','Municipio',m,\"Clave_mun\"]]\n",
    "                ide_m['Fecha'] = m + ' '+ str(y) \n",
    "                ide_m['Fecha_pd'] = idx[f]\n",
    "                ide_m = ide_m.rename(columns = {m : 'Data'})\n",
    "                ide_t = pd.concat([ide_t,ide_m])\n",
    "                f += 1\n",
    "        \n",
    "        return ide_t.dropna()"
   ]
  },
  {
   "cell_type": "markdown",
   "metadata": {},
   "source": [
    "# Operaciones y gráficas\n",
    "\n",
    "Separé las operaciones y realicé las gráficas en esta clase. Esta clase recibe un elemento DataFrame con registros por fecha.\n",
    "- Los elementos de filtrados, se conjuntan en suma con todas las ocurrencias señaladas"
   ]
  },
  {
   "cell_type": "code",
   "execution_count": 12,
   "metadata": {},
   "outputs": [
    {
     "name": "stderr",
     "output_type": "stream",
     "text": [
      "/Users/roas/anaconda3/lib/python3.7/site-packages/ipykernel_launcher.py:31: SettingWithCopyWarning: \n",
      "A value is trying to be set on a copy of a slice from a DataFrame.\n",
      "Try using .loc[row_indexer,col_indexer] = value instead\n",
      "\n",
      "See the caveats in the documentation: http://pandas.pydata.org/pandas-docs/stable/indexing.html#indexing-view-versus-copy\n",
      "/Users/roas/anaconda3/lib/python3.7/site-packages/ipykernel_launcher.py:32: SettingWithCopyWarning: \n",
      "A value is trying to be set on a copy of a slice from a DataFrame.\n",
      "Try using .loc[row_indexer,col_indexer] = value instead\n",
      "\n",
      "See the caveats in the documentation: http://pandas.pydata.org/pandas-docs/stable/indexing.html#indexing-view-versus-copy\n",
      "/Users/roas/anaconda3/lib/python3.7/site-packages/ipykernel_launcher.py:34: FutureWarning: Sorting because non-concatenation axis is not aligned. A future version\n",
      "of pandas will change to not sort by default.\n",
      "\n",
      "To accept the future behavior, pass 'sort=False'.\n",
      "\n",
      "To retain the current behavior and silence the warning, pass 'sort=True'.\n",
      "\n"
     ]
    }
   ],
   "source": [
    "# Se establece las clases para poder obtener los datos a través de registros con fecha!\n",
    "\n",
    "registro = RegistrosEG()\n",
    "ide_t = registro.ide_registros()"
   ]
  },
  {
   "cell_type": "code",
   "execution_count": 12,
   "metadata": {},
   "outputs": [],
   "source": [
    "# Guarda el archivo en un excel filtrado!\n",
    "\n",
    "ide_t.to_csv('ide_reng_mayo_19.csv',index=False)"
   ]
  },
  {
   "cell_type": "code",
   "execution_count": 13,
   "metadata": {},
   "outputs": [],
   "source": [
    "# Aplica los filtos por subtipo de delito, \n",
    "\n",
    "df_filtrado = FiltroEG(ide_t,year=[],entidad=[],bienjuridico=[],modalidad=[],tipo=[],subtipo=['Homicidio doloso','Homicidio culposo',\n",
    "                                                                                             ' Extorsión','Robo con violencia','Robo de vehículo',\n",
    "                                                                                              'Robo a casa habitación','Robo a negocio','Robo a transeúnte en vía pública',\n",
    "                                                                                              \"Robo a transeúnte en espacio abierto al público\"\n",
    "                                                                                              'Feminicidio'\n",
    "                                                                                             ]).filtrado()\n",
    "\n"
   ]
  },
  {
   "cell_type": "code",
   "execution_count": 16,
   "metadata": {},
   "outputs": [],
   "source": [
    "df_filtrado.to_csv('ide_reng_filtrado_19',index=False)"
   ]
  },
  {
   "cell_type": "code",
   "execution_count": 39,
   "metadata": {},
   "outputs": [],
   "source": [
    "# Estás son las librerías que se requieren para poder greaficar por fecha, por favor agregar!!!\n",
    "\n",
    "\n",
    "from matplotlib import dates\n",
    "from datetime import datetime\n",
    "from scipy import stats"
   ]
  },
  {
   "cell_type": "code",
   "execution_count": 14,
   "metadata": {},
   "outputs": [],
   "source": [
    "#Filtrar datos para gráfica, se toman los datos que se quieren filtrar y se realiza la operación con las clases \n",
    "# que se construyeron antes\n",
    "\n",
    "# Se genera el DataFrame con los registros por fecha.\n",
    "# ide_t = RegistrosEG().ide_registros() \n",
    "\n",
    "# Esta función genera un elemento de la clase FiltroEG y lo regresa con los datos filtrados\n",
    "# Se seleccionan las opciones que se quieren filtrar\n",
    "df_filtrado = FiltroEG(ide_t,year=[],entidad=[],bienjuridico=[],modalidad=[],tipo=[],subtipo=['Homicidio doloso','Homicidio culposo',\n",
    "                                                                                             ' Extorsión','Robo con violencia','Robo de vehículo',\n",
    "                                                                                              'Robo a casa habitación','Robo a negocio','Robo a transeúnte en vía pública',\n",
    "                                                                                              \"Robo a transeúnte en espacio abierto al público\"\n",
    "                                                                                              'Feminicidio'\n",
    "                                                                                             ]).filtrado()\n"
   ]
  },
  {
   "cell_type": "code",
   "execution_count": 15,
   "metadata": {},
   "outputs": [],
   "source": [
    "### Generé una nueva tabla con solo los elementos filtrados\n",
    "###  Un nuevo índice por fechas para poder realizar operaciones por fechas\n",
    "df_filtrado.set_index('Fecha_pd',inplace=True) #esta operación no se pueda asignar como DFrame\n",
    "\n",
    "#Además se tiene que revisar como realizada o no, porque no se puede repetir ya que tiene los valores como índice\n",
    "#no los puede volver a hacer indice"
   ]
  },
  {
   "cell_type": "code",
   "execution_count": 16,
   "metadata": {},
   "outputs": [],
   "source": [
    "### Agrupación de datos por mes, sumando los datos\n",
    "datos = df_filtrado.resample('m').sum()"
   ]
  },
  {
   "cell_type": "code",
   "execution_count": 27,
   "metadata": {},
   "outputs": [
    {
     "data": {
      "text/html": [
       "<div>\n",
       "<style scoped>\n",
       "    .dataframe tbody tr th:only-of-type {\n",
       "        vertical-align: middle;\n",
       "    }\n",
       "\n",
       "    .dataframe tbody tr th {\n",
       "        vertical-align: top;\n",
       "    }\n",
       "\n",
       "    .dataframe thead th {\n",
       "        text-align: right;\n",
       "    }\n",
       "</style>\n",
       "<table border=\"1\" class=\"dataframe\">\n",
       "  <thead>\n",
       "    <tr style=\"text-align: right;\">\n",
       "      <th></th>\n",
       "      <th>VC_Slope</th>\n",
       "      <th>VC_Int</th>\n",
       "      <th>VC_R</th>\n",
       "      <th>VC_P</th>\n",
       "      <th>VC_Std_err</th>\n",
       "    </tr>\n",
       "  </thead>\n",
       "  <tbody>\n",
       "    <tr>\n",
       "      <th>0</th>\n",
       "      <td>739.13651</td>\n",
       "      <td>126840.997904</td>\n",
       "      <td>0.763964</td>\n",
       "      <td>2.842736e-11</td>\n",
       "      <td>87.418079</td>\n",
       "    </tr>\n",
       "  </tbody>\n",
       "</table>\n",
       "</div>"
      ],
      "text/plain": [
       "    VC_Slope         VC_Int      VC_R          VC_P  VC_Std_err\n",
       "0  739.13651  126840.997904  0.763964  2.842736e-11   87.418079"
      ]
     },
     "execution_count": 27,
     "metadata": {},
     "output_type": "execute_result"
    }
   ],
   "source": [
    "### Regresión líneal\n",
    "\n",
    "# Lo ideal es hacer otra función que pueda se llamada por la gráfica.\n",
    "# En la siguiente línea se llama la función para filtrar el DataFrame\n",
    "crime_rate = datos.iloc[:, 0]\n",
    "periodo =np.arange(0,len(datos['Data']),1)\n",
    "vc_slope, vc_int, vc_r, vc_p, vc_std_err = stats.linregress(periodo, crime_rate)\n",
    "vc_fit = vc_slope * periodo + vc_int\n",
    "stats_dataframe = pd.DataFrame({'VC_Slope':[vc_slope], 'VC_Int':[vc_int], 'VC_R':[vc_r],\n",
    "                               'VC_P':[vc_p], 'VC_Std_err':[vc_std_err]})\n",
    "# De la operación de regresión líneal tenemos los datos para gráficar la recta que se define por este método\n",
    "vc_fit\n",
    "stats_dataframe\n",
    "\n"
   ]
  },
  {
   "cell_type": "code",
   "execution_count": 11,
   "metadata": {},
   "outputs": [],
   "source": [
    "# Agregué a la nuestra Data Frame a gráficar los datos generados de la Regresión Líneal, para poder tener el mismo\n",
    "# periodo 'Fecha_pd'\n",
    "datos['VC_Fit'] = vc_fit"
   ]
  },
  {
   "cell_type": "code",
   "execution_count": 12,
   "metadata": {},
   "outputs": [
    {
     "name": "stderr",
     "output_type": "stream",
     "text": [
      "/Users/roas/anaconda3/lib/python3.7/site-packages/pandas/plotting/_converter.py:129: FutureWarning: Using an implicitly registered datetime converter for a matplotlib plotting method. The converter was registered by pandas on import. Future versions of pandas will require you to explicitly register matplotlib converters.\n",
      "\n",
      "To register the converters:\n",
      "\t>>> from pandas.plotting import register_matplotlib_converters\n",
      "\t>>> register_matplotlib_converters()\n",
      "  warnings.warn(msg, FutureWarning)\n"
     ]
    },
    {
     "data": {
      "image/png": "[encoded data removed]",
      "text/plain": [
       "<Figure size 1008x576 with 1 Axes>"
      ]
     },
     "metadata": {},
     "output_type": "display_data"
    }
   ],
   "source": [
    "### Gráfica de Incidencia Delictiva, claro con los datos que se filtraron de los campos \n",
    "\n",
    "# Para los filtros de tiempo, es un buen tema, ambas [x, y] tienen que tener\n",
    "# ser del mismo tamaño por lo que habrá de filtrar ambas.\n",
    "# Seleccioné las variables de las fechas, como entrada.\n",
    "\n",
    "f_inicial = '2015-01-01'\n",
    "f_final   = '2019-12-31'\n",
    "\n",
    "\n",
    "# Empecemos definiendo los parámetros generales de los marcos para la gráfica\n",
    "plt.rcParams['figure.figsize'] = (14, 8) \n",
    "plt.style.use('seaborn-white')\n",
    "\n",
    "### La siguiente gráfica es con Matplotlib, enfocada en objetos.\n",
    "# Se inicializan dos objetos, la figura (frame general) y los ejes cuadro dentro de la figura\n",
    "fig, ax1 = plt.subplots()\n",
    "\n",
    "# Grafiqué los datos 'DataFrame.index.values' -> trae los valores del indice!\n",
    "\n",
    "ax1.plot(datos.loc[f_inicial:f_final].index.values, datos.loc[f_inicial:f_final]['Data'], '-o', c='grey')\n",
    "ax1.plot(datos.loc[f_inicial:f_final].index.values, datos.loc[f_inicial:f_final]['VC_Fit'], '--', c='grey', linewidth=1)\n",
    "\n",
    "# Inclusión de etiquetas y título\n",
    "ax1.set(xlabel=\"Meses\",\n",
    "ylabel=\"Datos de ocurrencia de los campos filtrados\",\n",
    "title=\"Ocurrencia de delitos por fechas de corte\")\n",
    "ax1.yaxis.grid(True)\n",
    "ax1.xaxis.grid(True)\n",
    "\n",
    "# Impresión de etiquetas de fecha con rotación\n",
    "types = datos.loc[f_inicial:f_final]['Data']\n",
    "x_coords = datos.loc[f_inicial:f_final].index.values\n",
    "y_coords = datos.loc[f_inicial:f_final]['Data']\n",
    "\n",
    "# Agregar a la gráfica las etiquetas de los valores\n",
    "\n",
    "for i,type in enumerate(types):\n",
    "    x = x_coords[i]\n",
    "    y = y_coords[i]\n",
    "    plt.text(x, y+24, str(type), fontsize=8)\n",
    "#     plt#.text(x+3, y+2, str(x.strftime('%m/%Y')), fontsize=8)   #para agregar en las etiquetas las fechas\n",
    "plt.setp(ax1.get_xticklabels(), rotation=45)\n",
    "plt.show()\n",
    "\n"
   ]
  },
  {
   "cell_type": "code",
   "execution_count": 14,
   "metadata": {},
   "outputs": [
    {
     "data": {
      "text/html": [
       "<div>\n",
       "<style scoped>\n",
       "    .dataframe tbody tr th:only-of-type {\n",
       "        vertical-align: middle;\n",
       "    }\n",
       "\n",
       "    .dataframe tbody tr th {\n",
       "        vertical-align: top;\n",
       "    }\n",
       "\n",
       "    .dataframe thead th {\n",
       "        text-align: right;\n",
       "    }\n",
       "</style>\n",
       "<table border=\"1\" class=\"dataframe\">\n",
       "  <thead>\n",
       "    <tr style=\"text-align: right;\">\n",
       "      <th></th>\n",
       "      <th>Total de Delitos</th>\n",
       "      <th>Mayor # de ocurrencias de un delito en el periodo</th>\n",
       "      <th>Delito con mayor # de ocurrencias</th>\n",
       "      <th>Mes con mayor # de delitos en el periodo</th>\n",
       "      <th>Entidades seleccionadas</th>\n",
       "      <th>Promedio</th>\n",
       "      <th>Desviación estándar</th>\n",
       "    </tr>\n",
       "  </thead>\n",
       "  <tbody>\n",
       "    <tr>\n",
       "      <th>0</th>\n",
       "      <td>169218.0</td>\n",
       "      <td>448.0</td>\n",
       "      <td>Robo; Robo de coche de 4 ruedas Sin violencia;...</td>\n",
       "      <td>2017-10-31</td>\n",
       "      <td>Michoacán de Ocampo</td>\n",
       "      <td>3192.792453</td>\n",
       "      <td>576.685868</td>\n",
       "    </tr>\n",
       "  </tbody>\n",
       "</table>\n",
       "</div>"
      ],
      "text/plain": [
       "   Total de Delitos  Mayor # de ocurrencias de un delito en el periodo  \\\n",
       "0          169218.0                                              448.0   \n",
       "\n",
       "                   Delito con mayor # de ocurrencias  \\\n",
       "0  Robo; Robo de coche de 4 ruedas Sin violencia;...   \n",
       "\n",
       "  Mes con mayor # de delitos en el periodo Entidades seleccionadas  \\\n",
       "0                               2017-10-31     Michoacán de Ocampo   \n",
       "\n",
       "      Promedio  Desviación estándar  \n",
       "0  3192.792453           576.685868  "
      ]
     },
     "execution_count": 14,
     "metadata": {},
     "output_type": "execute_result"
    }
   ],
   "source": [
    "resumen = pd.DataFrame()\n",
    "resumen['Total de Delitos'] = [df_filtrado['Data'].sum()]\n",
    "resumen['Mayor # de ocurrencias de un delito en el periodo'] = df_filtrado['Data'].max()\n",
    "resumen['Delito con mayor # de ocurrencias'] = (df_filtrado[df_filtrado['Data'] == df_filtrado['Data'].max()]\n",
    "                                                [\"Tipo_delito\"].values + '; ' + \n",
    "                                                df_filtrado[df_filtrado['Data'] == df_filtrado['Data'].max()]\n",
    "                                                [\"Modalidad\"].values + '; ' +\n",
    "                                                df_filtrado[df_filtrado['Data'] == df_filtrado['Data'].max()]\n",
    "                                                [\"Subtipo_delito\"].values \n",
    "                                               )\n",
    "resumen['Mes con mayor # de delitos en el periodo'] = datos[datos['Data'] == datos['Data'].max()].index.values\n",
    "resumen['Entidades seleccionadas'] = df_filtrado['Entidad'].unique()\n",
    "resumen['Promedio'] = datos['Data'].mean()\n",
    "resumen['Desviación estándar'] = datos['Data'].std()\n",
    "resumen\n",
    "\n"
   ]
  }
 ],
 "metadata": {
  "kernelspec": {
   "display_name": "Python 3",
   "language": "python",
   "name": "python3"
  },
  "language_info": {
   "codemirror_mode": {
    "name": "ipython",
    "version": 3
   },
   "file_extension": ".py",
   "mimetype": "text/x-python",
   "name": "python",
   "nbconvert_exporter": "python",
   "pygments_lexer": "ipython3",
   "version": "3.7.1"
  }
 },
 "nbformat": 4,
 "nbformat_minor": 2
}
